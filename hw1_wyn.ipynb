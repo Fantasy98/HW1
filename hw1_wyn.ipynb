{
 "cells": [
  {
   "cell_type": "code",
   "execution_count": 1,
   "metadata": {},
   "outputs": [],
   "source": [
    "import numpy as np \n",
    "import numpy.linalg as LA \n",
    "import math as mt"
   ]
  },
  {
   "cell_type": "markdown",
   "metadata": {},
   "source": [
    "# Problem 1 "
   ]
  },
  {
   "cell_type": "markdown",
   "metadata": {},
   "source": [
    "## Full SVD"
   ]
  },
  {
   "cell_type": "code",
   "execution_count": 2,
   "metadata": {},
   "outputs": [
    {
     "data": {
      "text/plain": [
       "(array([[1., 0.],\n",
       "        [0., 1.]]),\n",
       " array([1., 1.]),\n",
       " array([[0., 1., 0.],\n",
       "        [1., 0., 0.],\n",
       "        [0., 0., 1.]]))"
      ]
     },
     "execution_count": 2,
     "metadata": {},
     "output_type": "execute_result"
    }
   ],
   "source": [
    "A = np.array([[0,1,0],\n",
    "             [1,0,0]])\n",
    "U,s,VT = LA.svd(A)\n",
    "U,s,VT"
   ]
  },
  {
   "cell_type": "code",
   "execution_count": 25,
   "metadata": {},
   "outputs": [
    {
     "data": {
      "text/plain": [
       "2"
      ]
     },
     "execution_count": 25,
     "metadata": {},
     "output_type": "execute_result"
    }
   ],
   "source": [
    "np.linalg.matrix_rank(A)"
   ]
  },
  {
   "cell_type": "markdown",
   "metadata": {},
   "source": [
    "## Pseudo Inverse"
   ]
  },
  {
   "cell_type": "code",
   "execution_count": 3,
   "metadata": {},
   "outputs": [
    {
     "name": "stdout",
     "output_type": "stream",
     "text": [
      "[[0. 1.]\n",
      " [1. 0.]\n",
      " [0. 0.]]\n",
      "[[ True  True]\n",
      " [ True  True]]\n"
     ]
    }
   ],
   "source": [
    "V = VT.T \n",
    "D = np.diag(s)\n",
    "Dinv = LA.inv(D)\n",
    "Dplus = np.concatenate((Dinv,np.array([[0,0]])),axis = 0)\n",
    "# print(Dplus == LA.inv(A).shape)\n",
    "A_plus = np.dot(V,np.dot(Dplus,U.T))\n",
    "print(A_plus)\n",
    "print(A.dot(A_plus) == np.eye(2) )\n"
   ]
  },
  {
   "cell_type": "markdown",
   "metadata": {},
   "source": [
    "# Problem 2 "
   ]
  },
  {
   "cell_type": "code",
   "execution_count": 4,
   "metadata": {},
   "outputs": [
    {
     "data": {
      "text/plain": [
       "True"
      ]
     },
     "execution_count": 4,
     "metadata": {},
     "output_type": "execute_result"
    }
   ],
   "source": [
    "AF =np.sqrt(np.sum(np.dot(A.T,A)))\n",
    "\n",
    "AF == np.sqrt(np.sum(A**2))"
   ]
  },
  {
   "cell_type": "code",
   "execution_count": 5,
   "metadata": {},
   "outputs": [
    {
     "data": {
      "text/plain": [
       "array([[4, 2, 4],\n",
       "       [4, 1, 2]])"
      ]
     },
     "execution_count": 5,
     "metadata": {},
     "output_type": "execute_result"
    }
   ],
   "source": [
    "A = np.random.randint(1,5,size=(2,3))\n",
    "A"
   ]
  },
  {
   "cell_type": "code",
   "execution_count": 6,
   "metadata": {},
   "outputs": [],
   "source": [
    "U,s,VT = LA.svd(A)"
   ]
  },
  {
   "cell_type": "code",
   "execution_count": 7,
   "metadata": {},
   "outputs": [
    {
     "data": {
      "text/plain": [
       "array([5.55601183e+01, 1.43988174e+00, 3.62525686e-31])"
      ]
     },
     "execution_count": 7,
     "metadata": {},
     "output_type": "execute_result"
    }
   ],
   "source": [
    "lam,u = LA.eig(A.T.dot(A))\n",
    "lam"
   ]
  },
  {
   "cell_type": "code",
   "execution_count": 8,
   "metadata": {},
   "outputs": [
    {
     "data": {
      "text/plain": [
       "array([[-7.51445819e-01, -2.95069206e-01, -5.90138412e-01],\n",
       "       [ 6.59794802e-01, -3.36056786e-01, -6.72113573e-01],\n",
       "       [ 1.12975792e-16, -8.94427191e-01,  4.47213595e-01]])"
      ]
     },
     "execution_count": 8,
     "metadata": {},
     "output_type": "execute_result"
    }
   ],
   "source": [
    "VT"
   ]
  },
  {
   "cell_type": "code",
   "execution_count": 9,
   "metadata": {},
   "outputs": [],
   "source": [
    "AF_1=np.trace(A.dot(A.T))\n",
    "AF =np.sum(A**2)\n"
   ]
  },
  {
   "cell_type": "code",
   "execution_count": 10,
   "metadata": {},
   "outputs": [
    {
     "data": {
      "text/plain": [
       "True"
      ]
     },
     "execution_count": 10,
     "metadata": {},
     "output_type": "execute_result"
    }
   ],
   "source": [
    "AF_1== AF"
   ]
  },
  {
   "cell_type": "markdown",
   "metadata": {},
   "source": [
    "# Problem 4"
   ]
  },
  {
   "cell_type": "code",
   "execution_count": 11,
   "metadata": {},
   "outputs": [],
   "source": [
    "import numpy as np \n",
    "from matplotlib import pyplot as plt\n",
    "import math as mt\n",
    "from numpy import linalg as LA\n",
    "import csv"
   ]
  },
  {
   "cell_type": "markdown",
   "metadata": {},
   "source": [
    "### 4.1 Load DATA"
   ]
  },
  {
   "cell_type": "code",
   "execution_count": 12,
   "metadata": {},
   "outputs": [
    {
     "name": "stdout",
     "output_type": "stream",
     "text": [
      "(220, 500)\n"
     ]
    }
   ],
   "source": [
    "DATA = []\n",
    "with open(\"HW1Q4.csv\",\"r\") as f: \n",
    "    reader = csv.reader(f,delimiter=\",\")\n",
    "    for line in reader:\n",
    "        DATA.append([float(l) for l in line])\n",
    "f.close()\n",
    "DATA = np.array(DATA)\n",
    "print(DATA.shape)"
   ]
  },
  {
   "cell_type": "markdown",
   "metadata": {},
   "source": [
    "### 4.2 Economy SVD"
   ]
  },
  {
   "cell_type": "code",
   "execution_count": 13,
   "metadata": {},
   "outputs": [
    {
     "name": "stdout",
     "output_type": "stream",
     "text": [
      "Shape of U is (220, 220)\n",
      "Shape of S is (220,)\n",
      "Shape of VT is (220, 500)\n"
     ]
    }
   ],
   "source": [
    "U,S,VT = LA.svd(DATA,full_matrices=False)\n",
    "print(f\"Shape of U is {U.shape}\")\n",
    "print(f\"Shape of S is {S.shape}\")\n",
    "print(f\"Shape of VT is {VT.shape}\")"
   ]
  },
  {
   "cell_type": "markdown",
   "metadata": {},
   "source": [
    "### 4.3 Plot"
   ]
  },
  {
   "cell_type": "markdown",
   "metadata": {},
   "source": [
    "### 4.3.1 Singular Values"
   ]
  },
  {
   "cell_type": "code",
   "execution_count": 14,
   "metadata": {},
   "outputs": [
    {
     "data": {
      "image/png": "[encoded data removed]",
      "text/plain": [
       "<Figure size 432x288 with 1 Axes>"
      ]
     },
     "metadata": {
      "needs_background": "light"
     },
     "output_type": "display_data"
    }
   ],
   "source": [
    "fig = plt.figure(0)\n",
    "plt.semilogy(S,\"-o\",c='blue', mfc='red', mec='k',markersize = 4.5)\n",
    "plt.grid()\n",
    "plt.xlabel(r\"k\")\n",
    "plt.ylabel(r\"Singular Value ${{\\sigma}_{k}}$\")\n",
    "plt.title(\"Singular Values\")\n",
    "fig.savefig(\"HW1Q4_S\",dpi = 100)\n",
    "plt.show()"
   ]
  },
  {
   "cell_type": "markdown",
   "metadata": {},
   "source": [
    "### 4.3.2 Left Singular Vectors"
   ]
  },
  {
   "cell_type": "code",
   "execution_count": 15,
   "metadata": {},
   "outputs": [
    {
     "data": {
      "image/png": "[encoded data removed]",
      "text/plain": [
       "<Figure size 432x288 with 1 Axes>"
      ]
     },
     "metadata": {
      "needs_background": "light"
     },
     "output_type": "display_data"
    }
   ],
   "source": [
    "fig = plt.figure(1)\n",
    "for i in range(3):\n",
    "    plt.plot(U[:,i],label= r\"$u_{}$\".format(i+1))\n",
    "plt.grid()\n",
    "plt.legend()\n",
    "plt.title(\"The first 3 Left Singular Vectors \")\n",
    "fig.savefig(\"HW1Q4_U3\",dpi = 100)"
   ]
  },
  {
   "cell_type": "markdown",
   "metadata": {},
   "source": [
    "### 4.3.3 Right Singular Vectors "
   ]
  },
  {
   "cell_type": "code",
   "execution_count": 16,
   "metadata": {},
   "outputs": [
    {
     "data": {
      "image/png": "[encoded data removed]",
      "text/plain": [
       "<Figure size 432x288 with 1 Axes>"
      ]
     },
     "metadata": {
      "needs_background": "light"
     },
     "output_type": "display_data"
    }
   ],
   "source": [
    "fig = plt.figure(2)\n",
    "for i in range(3):\n",
    "    plt.plot(VT.T[:,i],label= r\"$v_{}$\".format(i+1))\n",
    "plt.grid()\n",
    "plt.legend()\n",
    "plt.title(\"The first 3 Right Singular Vectors \")\n",
    "fig.savefig(\"HW1Q4_V3\",dpi = 100)"
   ]
  },
  {
   "cell_type": "code",
   "execution_count": 17,
   "metadata": {},
   "outputs": [],
   "source": [
    "# np.round(DATA.dot(VT[0,:])/U[:,0],2) == np.round(S[0],2)"
   ]
  },
  {
   "cell_type": "markdown",
   "metadata": {},
   "source": [
    "#### 4.4 Verifying"
   ]
  },
  {
   "cell_type": "code",
   "execution_count": 18,
   "metadata": {},
   "outputs": [],
   "source": [
    "V = VT.T\n",
    "V3 = V[:,0:3]\n",
    "projection = DATA.dot(V3)\n",
    "Fnorm = LA.norm(projection,ord='fro')"
   ]
  },
  {
   "cell_type": "code",
   "execution_count": 19,
   "metadata": {},
   "outputs": [
    {
     "data": {
      "text/plain": [
       "True"
      ]
     },
     "execution_count": 19,
     "metadata": {},
     "output_type": "execute_result"
    }
   ],
   "source": [
    "np.round(Fnorm**2,4) == np.round(np.sum(S[0:3]**2),4)"
   ]
  },
  {
   "cell_type": "code",
   "execution_count": 20,
   "metadata": {},
   "outputs": [
    {
     "name": "stdout",
     "output_type": "stream",
     "text": [
      "(220, 3) (3, 500) (3, 3)\n",
      "24476.487023576392\n",
      "24476.487023576236\n"
     ]
    }
   ],
   "source": [
    "V3 = VT[:3,:]\n",
    "U3 = U[:,:3]\n",
    "S3 = np.diag(S[:3])\n",
    "\n",
    "print(U3.shape,V3.shape,S3.shape)\n",
    "proj = U3 @ S3 @ V3 \n",
    "Fnorm = LA.norm(proj,ord='fro')\n",
    "print(Fnorm**2)\n",
    "print(np.sum(S[0:3]**2))"
   ]
  },
  {
   "cell_type": "markdown",
   "metadata": {},
   "source": [
    "# Problem 5"
   ]
  },
  {
   "cell_type": "markdown",
   "metadata": {},
   "source": [
    "## Load the data"
   ]
  },
  {
   "cell_type": "code",
   "execution_count": 21,
   "metadata": {},
   "outputs": [
    {
     "name": "stdout",
     "output_type": "stream",
     "text": [
      "The shape of C is (20, 100)\n",
      "The shape of b is (20,)\n"
     ]
    }
   ],
   "source": [
    "C = np.genfromtxt(\"hw1Q5C.dat\",delimiter=\",\")\n",
    "b = np.genfromtxt(\"hw1Q5b.dat\",delimiter=\",\")\n",
    "print(f\"The shape of C is {C.shape}\")\n",
    "print(f\"The shape of b is {b.shape}\")"
   ]
  },
  {
   "cell_type": "code",
   "execution_count": 22,
   "metadata": {},
   "outputs": [
    {
     "data": {
      "text/plain": [
       "array([-2.14803027e-04,  1.37887488e-03, -1.32548345e-04, -6.74564331e-04,\n",
       "        2.57838247e-04,  1.64180961e-04, -3.27011082e-04, -4.14815158e-04,\n",
       "       -1.38588858e-05, -2.45189756e-04, -6.24171098e-05, -6.49773796e-05,\n",
       "       -1.40689168e-05,  7.86986874e-04,  2.78745836e-05, -3.64593546e-04,\n",
       "        3.10953834e-05, -4.06287715e-01,  8.29836568e-05,  2.02950566e-04,\n",
       "       -4.11018485e-04, -7.85512499e-04, -8.06908092e-04,  3.65824811e-04,\n",
       "        1.70424716e-04,  9.19247209e-05,  1.67954965e-04,  8.63868326e-04,\n",
       "       -5.36268506e-04,  1.99382495e-05, -3.27288371e-04,  1.27533539e-04,\n",
       "        8.73954980e-05,  1.23879052e-04,  8.90611488e-05, -2.07215737e-04,\n",
       "       -3.55374461e-04, -5.10910161e-04,  4.34156911e-04, -5.56635613e-04,\n",
       "        2.07025149e-04,  1.89011362e-04,  4.18839863e-05, -6.38399633e-04,\n",
       "       -1.01919911e-04, -9.06274258e-05,  2.79583673e-04, -2.29023699e-04,\n",
       "       -6.97512653e-05,  1.73904866e-04, -3.86649520e-04, -2.61679152e-04,\n",
       "       -2.23425974e-04,  3.75561486e-04,  3.48592913e-01, -9.18330774e-04,\n",
       "        1.83052585e-04, -5.88234701e-05, -8.20419623e-04,  8.70513685e-04,\n",
       "        3.62985531e-04, -1.15515049e-04, -1.21329109e-04, -1.67972655e-04,\n",
       "        3.65675214e-04,  2.91846866e-04,  1.10645364e-04, -5.11337577e-05,\n",
       "        3.81768915e-05, -1.10563188e-04, -4.47374400e-01, -1.81642374e-05,\n",
       "       -2.06736942e-04,  2.37273369e-04, -1.07780418e-04, -1.14294737e-04,\n",
       "       -7.66947478e-04, -4.26763365e-04, -5.49649698e-04, -1.57572149e-04,\n",
       "        2.24116313e-04,  2.12204593e-07, -2.17213526e-04, -5.38367878e-04,\n",
       "       -1.02671540e-03, -3.17806367e-04, -6.95052801e-05, -4.31947088e-05,\n",
       "        2.86975110e-04, -1.68194774e-04, -6.73452302e-04, -9.69001570e-05,\n",
       "       -4.23309915e-05,  3.74567395e-04, -7.90647108e-04,  8.13027849e-05,\n",
       "        4.49354038e-04,  1.03277272e-03,  4.01363743e-01,  1.06663656e-03])"
      ]
     },
     "execution_count": 22,
     "metadata": {},
     "output_type": "execute_result"
    }
   ],
   "source": [
    "from scipy.optimize import minimize\n",
    "## Define the L1 norm for computing\n",
    "def L1_norm(x):\n",
    "    return np.linalg.norm(x,ord=1)\n",
    "\n",
    "## Set constrain for the optimization\n",
    "constr = ({\"type\":\"eq\",\"fun\":lambda x: C@x - b})\n",
    "\n",
    "x0 = LA.pinv(C) @ b \n",
    "res = minimize(L1_norm,x0,method=\"SLSQP\",constraints=constr)\n",
    "\n",
    "## get the X by L1 norm\n",
    "s_L1 = res.x\n",
    "s_L1"
   ]
  },
  {
   "cell_type": "markdown",
   "metadata": {},
   "source": [
    "## Set certia of fake golden coin"
   ]
  },
  {
   "cell_type": "code",
   "execution_count": 23,
   "metadata": {},
   "outputs": [
    {
     "data": {
      "text/plain": [
       "array([ True, False,  True,  True, False, False,  True,  True,  True,\n",
       "        True,  True,  True,  True, False,  True,  True,  True,  True,\n",
       "        True, False,  True,  True,  True, False, False,  True, False,\n",
       "       False,  True,  True,  True, False,  True, False,  True,  True,\n",
       "        True,  True, False,  True, False, False,  True,  True,  True,\n",
       "        True, False,  True,  True, False,  True,  True,  True, False,\n",
       "       False,  True, False,  True,  True, False, False,  True,  True,\n",
       "        True, False, False, False,  True,  True,  True,  True,  True,\n",
       "        True, False,  True,  True,  True,  True,  True,  True, False,\n",
       "        True,  True,  True,  True,  True,  True,  True, False,  True,\n",
       "        True,  True,  True, False,  True,  True, False, False, False,\n",
       "       False])"
      ]
     },
     "execution_count": 23,
     "metadata": {},
     "output_type": "execute_result"
    }
   ],
   "source": [
    "mask = s_L1 <=1e-4\n",
    "mask"
   ]
  },
  {
   "cell_type": "markdown",
   "metadata": {},
   "source": [
    "## Show where are fake golden coins"
   ]
  },
  {
   "cell_type": "code",
   "execution_count": 24,
   "metadata": {},
   "outputs": [
    {
     "data": {
      "text/plain": [
       "<matplotlib.image.AxesImage at 0x12e8cc820>"
      ]
     },
     "execution_count": 24,
     "metadata": {},
     "output_type": "execute_result"
    },
    {
     "data": {
      "image/png": "[encoded data removed]",
      "text/plain": [
       "<Figure size 432x288 with 1 Axes>"
      ]
     },
     "metadata": {
      "needs_background": "light"
     },
     "output_type": "display_data"
    }
   ],
   "source": [
    "plt.imshow(mask.reshape(10,10))\n"
   ]
  },
  {
   "cell_type": "code",
   "execution_count": null,
   "metadata": {},
   "outputs": [],
   "source": []
  }
 ],
 "metadata": {
  "kernelspec": {
   "display_name": "Python 3.9.11 64-bit",
   "language": "python",
   "name": "python3"
  },
  "language_info": {
   "codemirror_mode": {
    "name": "ipython",
    "version": 3
   },
   "file_extension": ".py",
   "mimetype": "text/x-python",
   "name": "python",
   "nbconvert_exporter": "python",
   "pygments_lexer": "ipython3",
   "version": "3.9.11"
  },
  "orig_nbformat": 4,
  "vscode": {
   "interpreter": {
    "hash": "aee8b7b246df8f9039afb4144a1f6fd8d2ca17a180786b69acc140d282b71a49"
   }
  }
 },
 "nbformat": 4,
 "nbformat_minor": 2
}
