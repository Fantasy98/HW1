{
 "cells": [
  {
   "cell_type": "markdown",
   "metadata": {},
   "source": [
    "# Problem 1"
   ]
  },
  {
   "cell_type": "markdown",
   "metadata": {},
   "source": [
    "## SVD"
   ]
  },
  {
   "cell_type": "code",
   "execution_count": 17,
   "metadata": {},
   "outputs": [],
   "source": [
    "import numpy as np \n",
    "import numpy.linalg as LA\n",
    "import matplotlib.pyplot as plt\n",
    "from scipy.optimize import minimize\n",
    "import csv\n",
    "import pandas as pd"
   ]
  },
  {
   "cell_type": "code",
   "execution_count": 18,
   "metadata": {},
   "outputs": [
    {
     "name": "stdout",
     "output_type": "stream",
     "text": [
      "transpose:\n",
      " [[0 1]\n",
      " [1 0]\n",
      " [0 0]]\n"
     ]
    }
   ],
   "source": [
    "A = np.array([[0,1,0],[1,0,0]])\n",
    "print(f\"transpose:\\n {A.T}\")"
   ]
  },
  {
   "cell_type": "code",
   "execution_count": 19,
   "metadata": {},
   "outputs": [
    {
     "name": "stdout",
     "output_type": "stream",
     "text": [
      "[[1. 0.]\n",
      " [0. 1.]]\n",
      "[1. 1.]\n",
      "[[0. 1. 0.]\n",
      " [1. 0. 0.]\n",
      " [0. 0. 1.]]\n"
     ]
    }
   ],
   "source": [
    "## Compute the SVD by computer first \n",
    "U,S,VT = LA.svd(A)\n",
    "print(U)\n",
    "print(S)\n",
    "print(VT)"
   ]
  },
  {
   "cell_type": "markdown",
   "metadata": {},
   "source": [
    "### Computing for V and Sigma"
   ]
  },
  {
   "cell_type": "code",
   "execution_count": 20,
   "metadata": {},
   "outputs": [
    {
     "name": "stdout",
     "output_type": "stream",
     "text": [
      "The matrix X is :\n",
      "[[1 0 0]\n",
      " [0 1 0]\n",
      " [0 0 0]]\n",
      "The shape of X is (3, 3)\n",
      "The rank of X is 2\n",
      "The eigenvalues of X are:\n",
      " [1. 1. 0.]\n",
      "The eigenvectors of X are:\n",
      " [[1. 0. 0.]\n",
      " [0. 1. 0.]\n",
      " [0. 0. 1.]]\n"
     ]
    }
   ],
   "source": [
    "X = A.T @ A \n",
    "print(f\"The matrix X is :\\n{X}\")\n",
    "print(f\"The shape of X is {X.shape}\")\n",
    "print(f\"The rank of X is {LA.matrix_rank(X)}\")\n",
    "## Computing the eigenvalue and eigenvectors \n",
    "ev,eg = LA.eig(X)\n",
    "print(f\"The eigenvalues of X are:\\n {ev}\")\n",
    "print(f\"The eigenvectors of X are:\\n {eg}\")"
   ]
  },
  {
   "cell_type": "markdown",
   "metadata": {},
   "source": [
    "### Computing U "
   ]
  },
  {
   "cell_type": "code",
   "execution_count": 21,
   "metadata": {},
   "outputs": [
    {
     "name": "stdout",
     "output_type": "stream",
     "text": [
      "The matrix X is :\n",
      "[[1 0]\n",
      " [0 1]]\n",
      "The shape of X is (2, 2)\n",
      "The rank of X is 2\n",
      "The eigenvalues of X are:\n",
      " [1. 1.]\n",
      "The eigenvectors of X are:\n",
      " [[1. 0.]\n",
      " [0. 1.]]\n"
     ]
    }
   ],
   "source": [
    "X = A @ A.T\n",
    "print(f\"The matrix X is :\\n{X}\")\n",
    "print(f\"The shape of X is {X.shape}\")\n",
    "print(f\"The rank of X is {LA.matrix_rank(X)}\")\n",
    "## Computing the eigenvalue and eigenvectors \n",
    "ev,eg = LA.eig(X)\n",
    "print(f\"The eigenvalues of X are:\\n {ev}\")\n",
    "print(f\"The eigenvectors of X are:\\n {eg}\")"
   ]
  },
  {
   "cell_type": "markdown",
   "metadata": {},
   "source": [
    "### Check the hand-writing result"
   ]
  },
  {
   "cell_type": "code",
   "execution_count": 22,
   "metadata": {},
   "outputs": [
    {
     "name": "stdout",
     "output_type": "stream",
     "text": [
      "Does the result same as A ? \n",
      " [[ True  True  True]\n",
      " [ True  True  True]]\n"
     ]
    }
   ],
   "source": [
    "U = np.array([[1,0,0],[0,1,0]])\n",
    "S = np.array([[1,0,0],[0,1,0],[0,0,0]])\n",
    "VT = np.array([[0,1,0],[1,0,0],[0,0,1]])\n",
    "X = U @ S @ VT\n",
    "print(f\"Does the result same as A ? \\n { X==A }\")"
   ]
  },
  {
   "cell_type": "markdown",
   "metadata": {},
   "source": [
    "## Pseudo Inverse"
   ]
  },
  {
   "cell_type": "code",
   "execution_count": 23,
   "metadata": {},
   "outputs": [
    {
     "name": "stdout",
     "output_type": "stream",
     "text": [
      "The pseudoinverse of A by numpy :\n",
      "[[0. 1.]\n",
      " [1. 0.]\n",
      " [0. 0.]]\n"
     ]
    }
   ],
   "source": [
    "A_pinv = LA.pinv(A)\n",
    "print(f\"The pseudoinverse of A by numpy :\\n{A_pinv}\")"
   ]
  },
  {
   "cell_type": "code",
   "execution_count": 24,
   "metadata": {},
   "outputs": [
    {
     "name": "stdout",
     "output_type": "stream",
     "text": [
      "[[1. 0.]\n",
      " [0. 1.]]\n",
      "The pseduo inverse of A is\n",
      " [[0. 1.]\n",
      " [1. 0.]\n",
      " [0. 0.]]\n",
      "Check the result\n",
      "[[1. 0.]\n",
      " [0. 1.]] \n"
     ]
    }
   ],
   "source": [
    "x = A @ A.T\n",
    "invx = LA.inv(x)\n",
    "print(invx)\n",
    "Aplus =  A.T @ invx \n",
    "print(f\"The pseduo inverse of A is\\n {Aplus}\")\n",
    "print(f\"Check the result\\n{A @ Aplus} \")"
   ]
  },
  {
   "cell_type": "markdown",
   "metadata": {},
   "source": [
    "# Problem 2 : Examine the equation"
   ]
  },
  {
   "cell_type": "code",
   "execution_count": 25,
   "metadata": {},
   "outputs": [
    {
     "name": "stdout",
     "output_type": "stream",
     "text": [
      "The random matrix of A is \n",
      "[[8 1 3]\n",
      " [2 1 8]]\n",
      "The F norm of A computed by numpy : \n",
      "11.958260743101398\n",
      "The F norm of A computed by numpy : \n",
      "11.958260743101398\n",
      "Examine if the equation is valid:\n",
      "True\n"
     ]
    }
   ],
   "source": [
    "## Generate a random matrix\n",
    "A = np.random.randint(0,10,size=(2,3))\n",
    "print(f\"The random matrix of A is \\n{A}\")\n",
    "F_norm_A = LA.norm(A,ord=\"fro\")\n",
    "print(f\"The F norm of A computed by numpy : \\n{F_norm_A}\")\n",
    "U,S,VT = LA.svd(A)\n",
    "F_norm_S = np.sqrt(np.sum(S**2))\n",
    "print(f\"The F norm of A computed by numpy : \\n{F_norm_S}\")\n",
    "print(f\"Examine if the equation is valid:\\n{F_norm_S == F_norm_A}\")"
   ]
  },
  {
   "cell_type": "markdown",
   "metadata": {},
   "source": [
    "# Problem 4"
   ]
  },
  {
   "cell_type": "code",
   "execution_count": 26,
   "metadata": {},
   "outputs": [
    {
     "name": "stdout",
     "output_type": "stream",
     "text": [
      "The shape of dataset is (220, 500)\n",
      "The dtype of data is float64\n"
     ]
    }
   ],
   "source": [
    "## Load the data\n",
    "Q4 = pd.read_csv(\"HW1Q4.csv\",header=None)\n",
    "Q4 = Q4.to_numpy()\n",
    "print(f\"The shape of dataset is {Q4.shape}\")\n",
    "print(f\"The dtype of data is {Q4.dtype}\")"
   ]
  },
  {
   "cell_type": "code",
   "execution_count": 27,
   "metadata": {},
   "outputs": [
    {
     "name": "stdout",
     "output_type": "stream",
     "text": [
      "The shape of left singular vetors:(220, 220)\n",
      "The shape of right singular vetors:(500, 220)\n",
      "The number of  singular values:(220,)\n"
     ]
    }
   ],
   "source": [
    "## ecnomy singular-value decomposition\n",
    "U,S,VT = LA.svd(Q4,full_matrices=False)\n",
    "print(f\"The shape of left singular vetors:{U.shape}\")\n",
    "print(f\"The shape of right singular vetors:{VT.T.shape}\")\n",
    "print(f\"The number of  singular values:{S.shape}\")"
   ]
  },
  {
   "cell_type": "code",
   "execution_count": 28,
   "metadata": {},
   "outputs": [
    {
     "data": {
      "image/png": "[encoded data removed]",
      "text/plain": [
       "<Figure size 504x648 with 3 Axes>"
      ]
     },
     "metadata": {
      "needs_background": "light"
     },
     "output_type": "display_data"
    }
   ],
   "source": [
    "## Plot Singuar values, First three left singular vectors, and First three right vectors\n",
    "\n",
    "fig,axes = plt.subplots(3,1,figsize =(7,9))\n",
    "\n",
    "# Singular Values\n",
    "axes[0].semilogy(S,\"-o\",c=\"b\",mfc=\"red\",mec=\"k\",markersize=4.5)\n",
    "axes[0].grid()\n",
    "axes[0].set_xlabel(r\"k\")\n",
    "axes[0].set_ylabel(r\"Singular Value ${\\sigma}_{k}}$\")\n",
    "axes[0].set_title(\"Singular Values\")\n",
    "\n",
    "# First 3 Left Singular Vectors \n",
    "for i in range(3):\n",
    "    axes[1].plot(U[:,i],label=r\"$u_{}$\".format(i+1))\n",
    "axes[1].grid()\n",
    "axes[1].legend()\n",
    "axes[1].set_title(\"First three left singular vectors\")\n",
    "\n",
    "# First 3 Right Singular Vectors\n",
    "for i in range(3):\n",
    "    axes[2].plot(VT[i,:],label=r\"$v_{}$\".format(i+1))\n",
    "axes[2].grid()\n",
    "axes[2].legend(loc=\"upper right\")\n",
    "axes[2].set_title(\"First three right singular vectors\")\n",
    "\n",
    "# Adjust the space between subplots\n",
    "plt.subplots_adjust(left=0.1,\n",
    "                    bottom=0.1, \n",
    "                    right=0.9, \n",
    "                    top=0.9, \n",
    "                    wspace=0.4, \n",
    "                    hspace=0.4)\n",
    "plt.savefig(\"HW1Q4\")"
   ]
  },
  {
   "cell_type": "markdown",
   "metadata": {},
   "source": [
    "## Verify \n",
    "__The square of the Frobenius norm of the data projected onto the first three singular vectors is equal to the sum of the squares of the first three singular values__"
   ]
  },
  {
   "cell_type": "code",
   "execution_count": 29,
   "metadata": {},
   "outputs": [
    {
     "name": "stdout",
     "output_type": "stream",
     "text": [
      "Shape of first 3 left singular matrix (3, 220)\n",
      "Shape of first 3 right singular matrix (3, 500)\n",
      "Shape of Dataset (220, 500) \n",
      "The F-norm of the data projected onto first 3 singlur vectors is 24476.48702358\n",
      "The sum of the squares of first 3 singular values is 24476.48702358\n",
      "The verify result is True\n"
     ]
    }
   ],
   "source": [
    "# The first 3 left singular vectors\n",
    "U3 = U[:,:3].T.astype(np.float64)\n",
    "# The first 3 right singular vectors\n",
    "VT3 = VT[:3,:].astype(np.float64)\n",
    "# The first 3  singular values\n",
    "S3 = np.diag(S[:3]).astype(np.float64)\n",
    "\n",
    "print(f\"Shape of first 3 left singular matrix {U3.shape}\")\n",
    "print(f\"Shape of first 3 right singular matrix {VT3.shape}\")\n",
    "print(f\"Shape of Dataset {Q4.shape} \")\n",
    "\n",
    "# projection of data \n",
    "DATA_re = U3 @ Q4 @ VT3.T\n",
    "Fnorm_DATA = LA.norm(DATA_re,ord=\"fro\") **2\n",
    "Fnorm_S3= np.sum(S[:3]**2) \n",
    "print(f\"The F-norm of the data projected onto first 3 singlur vectors is {np.round(Fnorm_DATA,8)}\")\n",
    "print(f\"The sum of the squares of first 3 singular values is {np.round(Fnorm_S3,8)}\")\n",
    "print(f\"The verify result is {np.round(Fnorm_DATA,8) == np.round(Fnorm_S3,8)}\")"
   ]
  },
  {
   "cell_type": "markdown",
   "metadata": {},
   "source": [
    "# Problem 5"
   ]
  },
  {
   "cell_type": "code",
   "execution_count": 30,
   "metadata": {},
   "outputs": [
    {
     "name": "stdout",
     "output_type": "stream",
     "text": [
      "The shape of C is (20, 100)\n",
      "The shape of b is (20,)\n"
     ]
    }
   ],
   "source": [
    "## Load Data\n",
    "C = np.genfromtxt(\"hw1Q5C.dat\",delimiter=\",\")\n",
    "b = np.genfromtxt(\"hw1Q5b.dat\",delimiter=\",\")\n",
    "print(f\"The shape of C is {C.shape}\")\n",
    "print(f\"The shape of b is {b.shape}\")"
   ]
  },
  {
   "cell_type": "markdown",
   "metadata": {},
   "source": [
    "## Take 1: Leverage scipy.optimizer.minimize "
   ]
  },
  {
   "cell_type": "code",
   "execution_count": 31,
   "metadata": {},
   "outputs": [],
   "source": [
    "# ## Compression \n",
    "# # Define the L1 norm function\n",
    "# def L1_norm(x):\n",
    "#     return LA.norm(x,ord=1)\n",
    "# # set constrains \n",
    "# constr = ({\"type\":\"eq\",\"fun\":lambda x : C@x -b})\n",
    "# # express the x = inv(C) @ b\n",
    "# x0 = LA.pinv(C) @ b  \n",
    "# # using minimize to yield the result\n",
    "# # Default\n",
    "# # res = minimize(fun = L1_norm,x0 = x0,constraints=constr)\n",
    "# res = minimize(fun = L1_norm,x0 = x0,method=\"L-BFGS-B\")\n",
    "# ## get the X \n",
    "# s_L1 = res.x\n",
    "# print(f\"The shape of result {s_L1.shape}\") \n",
    "# print(f\"The  result \\n{s_L1}\") "
   ]
  },
  {
   "cell_type": "markdown",
   "metadata": {},
   "source": [
    "## Take 2: Leverage __cvxpy__ to solve the falut detection problem"
   ]
  },
  {
   "cell_type": "code",
   "execution_count": 32,
   "metadata": {},
   "outputs": [],
   "source": [
    "## Leveraging pycvx to solve the problem \n",
    "from tabnanny import verbose\n",
    "import cvxpy as cvx\n",
    "x = cvx.Variable(100)\n",
    "objective = cvx.Minimize(cvx.norm(x,1))\n",
    "b1 = np.expand_dims(b,axis=1)\n",
    "constrains = [C @ x == b]\n",
    "prob = cvx.Problem(objective,constrains)\n",
    "prob.solve(verbose=False)\n",
    "## Output the value of x \n",
    "s_L1 = x.value"
   ]
  },
  {
   "cell_type": "code",
   "execution_count": 33,
   "metadata": {},
   "outputs": [
    {
     "data": {
      "text/plain": [
       "array([-1.27491927e-11,  1.17593356e-11, -7.37995576e-12, -1.01757286e-12,\n",
       "       -1.22742206e-13,  9.90892090e-12, -1.95624207e-14, -1.04133405e-11,\n",
       "        1.09008644e-12,  1.19099637e-12, -3.72756655e-12, -1.32792900e-12,\n",
       "        8.68531843e-12, -1.31337053e-12, -3.52587714e-12, -9.86860775e-13,\n",
       "        2.01521617e-12, -4.10000000e-01, -6.66472200e-12,  4.11368097e-12,\n",
       "        5.32520400e-12, -3.16310824e-12,  2.59951528e-12,  2.07597940e-12,\n",
       "       -1.86197875e-12,  1.12475152e-11,  1.37589583e-12, -1.64367866e-12,\n",
       "       -8.56040913e-12,  4.83596874e-13,  1.14598707e-12, -4.59112029e-12,\n",
       "        1.28073025e-12, -1.02812201e-11,  1.41096661e-11, -3.84856590e-12,\n",
       "       -4.55148663e-12, -5.21355036e-12,  4.02984258e-12, -9.62148423e-12,\n",
       "        6.08259490e-12,  4.81029735e-12, -2.19747000e-12, -3.36349354e-12,\n",
       "        1.37256467e-12, -2.94751222e-12,  7.73308836e-12, -5.05489694e-12,\n",
       "        4.76830455e-13, -1.46657432e-12, -3.83226824e-13, -4.00814907e-12,\n",
       "       -1.58702085e-12, -2.91466272e-12,  3.50000000e-01, -1.18568694e-11,\n",
       "        1.98504540e-12, -1.19128680e-11, -1.35073424e-11,  3.98766915e-12,\n",
       "        6.14561740e-14, -2.27913858e-12, -6.51572362e-12,  1.94678875e-13,\n",
       "        2.28234159e-12,  3.75131640e-12,  9.08439728e-13,  2.14679227e-12,\n",
       "       -3.70428901e-12,  3.04284359e-12, -4.50000000e-01, -8.25263842e-13,\n",
       "        1.85225739e-12, -2.00380098e-12,  6.22137671e-12,  2.17659317e-12,\n",
       "       -7.83753352e-13, -5.66139672e-12, -2.21217962e-12, -4.73693303e-12,\n",
       "       -4.82347674e-12,  3.09120442e-13,  1.21066805e-12,  6.77837312e-12,\n",
       "       -3.04456340e-12, -5.44064151e-12,  1.08568740e-11,  1.94834484e-12,\n",
       "       -1.54516262e-12, -3.27828739e-12,  5.30651310e-12,  4.98446684e-12,\n",
       "        3.03103487e-12,  1.05063450e-12, -8.79017329e-13,  3.36489139e-12,\n",
       "        5.38417823e-13,  4.00011296e-12,  4.00000000e-01,  3.47232207e-12])"
      ]
     },
     "execution_count": 33,
     "metadata": {},
     "output_type": "execute_result"
    }
   ],
   "source": [
    "s_L1.view()"
   ]
  },
  {
   "cell_type": "code",
   "execution_count": 34,
   "metadata": {},
   "outputs": [
    {
     "name": "stdout",
     "output_type": "stream",
     "text": [
      "The Index (begin with 1) of fraudulent coins are :\n",
      "[18, 55, 71, 99]\n"
     ]
    },
    {
     "data": {
      "image/png": "[encoded data removed]",
      "text/plain": [
       "<Figure size 432x288 with 2 Axes>"
      ]
     },
     "metadata": {
      "needs_background": "light"
     },
     "output_type": "display_data"
    }
   ],
   "source": [
    "# Reshape the (100,1) result vector into (10,10) matrix \n",
    "# Set it as absolute value  \n",
    "result =  np.abs(s_L1.reshape(10,10)) \n",
    "\n",
    "# set threshold of difference to filter the fake coin \n",
    "result = result <1e-10\n",
    "\n",
    "\n",
    "# find which are those fake coins\n",
    "location = np.argwhere(result == False)\n",
    "list_Loc = [ i[0]*10 + i[1] +1 for i in location]\n",
    "print(f\"The Index (begin with 1) of fraudulent coins are :\\n{list_Loc}\")\n",
    "\n",
    "# heatmap to show the results, the black squares represent the fake coins\n",
    "imh = plt.imshow(result)\n",
    "plt.title(\"Detection of Fake coins\")\n",
    "plt.colorbar(imh)\n",
    "plt.savefig(\"HW1Q5\")"
   ]
  },
  {
   "cell_type": "markdown",
   "metadata": {},
   "source": [
    "# Problem 6 "
   ]
  },
  {
   "cell_type": "code",
   "execution_count": 35,
   "metadata": {},
   "outputs": [],
   "source": [
    "import numpy as np\n",
    "from numpy import linalg \n",
    "from matplotlib import cm\n",
    "from matplotlib import pyplot as plt\n",
    "from scipy.optimize import minimize\n",
    "\n",
    "y = np.linspace(-2,2,401) # spatial coordinate\n",
    "Ny = np.size(y)\n",
    "\n",
    "amp1 = 1\n",
    "y01 = 0.5\n",
    "sigmay1 = 0.6\n",
    "\n",
    "amp2 = 1.2\n",
    "y02 = -0.5\n",
    "sigmay2 = 0.3\n",
    "\n",
    "dt = 0.1\n",
    "Nt = 101\n",
    "tend = dt*(Nt-1)\n",
    "t = np.linspace(0,tend,Nt) # time\n",
    "\n",
    "omega1 = 1.3\n",
    "omega2 = 4.1\n",
    "\n",
    "v1 = amp1*np.exp(-((y-y01)**2)/(2*sigmay1**2))\n",
    "v2 = amp2*np.exp(-((y-y02)**2)/(2*sigmay2**2))\n",
    "\n",
    "X = np.zeros([Ny,Nt],dtype=complex)\n",
    "for tt in range(Nt):\n",
    "    X[:,tt] = v1*np.exp(1j*omega1*t[tt])+v2*np.exp(1j*omega2*t[tt]) "
   ]
  },
  {
   "cell_type": "code",
   "execution_count": 36,
   "metadata": {},
   "outputs": [
    {
     "name": "stdout",
     "output_type": "stream",
     "text": [
      "The shape of X is (401, 101)\n",
      "The rows represent the spatial coordinate y and colomns represent the tempral coordinate \n"
     ]
    }
   ],
   "source": [
    "print(f\"The shape of X is {X.shape}\")\n",
    "print(\"The rows represent the spatial coordinate y and colomns represent the tempral coordinate \")"
   ]
  },
  {
   "cell_type": "markdown",
   "metadata": {},
   "source": [
    "## (a) SVD of X "
   ]
  },
  {
   "cell_type": "code",
   "execution_count": 37,
   "metadata": {},
   "outputs": [
    {
     "name": "stderr",
     "output_type": "stream",
     "text": [
      "/Library/Frameworks/Python.framework/Versions/3.9/lib/python3.9/site-packages/matplotlib/cbook/__init__.py:1298: ComplexWarning: Casting complex values to real discards the imaginary part\n",
      "  return np.asarray(x, float)\n",
      "/Library/Frameworks/Python.framework/Versions/3.9/lib/python3.9/site-packages/matplotlib/cbook/__init__.py:1298: ComplexWarning: Casting complex values to real discards the imaginary part\n",
      "  return np.asarray(x, float)\n"
     ]
    },
    {
     "data": {
      "image/png": "[encoded data removed]",
      "text/plain": [
       "<Figure size 432x288 with 1 Axes>"
      ]
     },
     "metadata": {
      "needs_background": "light"
     },
     "output_type": "display_data"
    },
    {
     "data": {
      "image/png": "[encoded data removed]",
      "text/plain": [
       "<Figure size 432x288 with 1 Axes>"
      ]
     },
     "metadata": {
      "needs_background": "light"
     },
     "output_type": "display_data"
    }
   ],
   "source": [
    "## SVD of X \n",
    "U,S,VT = LA.svd(X)\n",
    "\n",
    "\n",
    "# fig, axes = plt.subplots(2,1,figsize=(7,9))\n",
    "\n",
    "# Plot singular values\n",
    "plt.figure(0)\n",
    "plt.semilogy(S,\"-o\",c=\"b\",mfc=\"red\",mec=\"k\",markersize=6.5)\n",
    "plt.grid()\n",
    "plt.xlabel(r\"y\")\n",
    "plt.ylabel(r\"Singular Value ${\\sigma}_{k}}$\")\n",
    "plt.title(\"Singular Values\")\n",
    "plt.savefig(\"H1Q6a_S3\")\n",
    "# Plot First 2 Left Singular Vectors \n",
    "plt.figure(1)\n",
    "for i in range(2):\n",
    "    plt.plot(U[:,i],label=r\"$u_{}$\".format(i+1))\n",
    "plt.grid()\n",
    "plt.xlabel(\"y\")\n",
    "plt.legend()\n",
    "plt.title(\"First Two left singular vectors\")\n",
    "plt.savefig(\"H1Q6a_U2\")\n",
    "\n",
    "plt.subplots_adjust(left=0.1,\n",
    "                    bottom=0.1, \n",
    "                    right=0.9, \n",
    "                    top=0.9, \n",
    "                    wspace=0.6, \n",
    "                    hspace=0.6)\n",
    "plt.savefig(\"HW1Q6a\")"
   ]
  },
  {
   "cell_type": "markdown",
   "metadata": {},
   "source": [
    "### The reason why first 2 singular values are much larger than the rest "
   ]
  },
  {
   "cell_type": "code",
   "execution_count": 38,
   "metadata": {},
   "outputs": [
    {
     "name": "stdout",
     "output_type": "stream",
     "text": [
      "The rank of matrix X is 2\n"
     ]
    }
   ],
   "source": [
    "## Compute the rank of X \n",
    "RANK = LA.matrix_rank(X)\n",
    "print(f\"The rank of matrix X is {RANK}\")"
   ]
  },
  {
   "cell_type": "markdown",
   "metadata": {},
   "source": [
    "+ __It is beacuse the rank of matrix is 2__\n",
    "+ The rest of singular values are essentially zero"
   ]
  },
  {
   "cell_type": "markdown",
   "metadata": {},
   "source": [
    "## (b) DMD of X"
   ]
  },
  {
   "cell_type": "code",
   "execution_count": 39,
   "metadata": {},
   "outputs": [
    {
     "name": "stdout",
     "output_type": "stream",
     "text": [
      "Shape of X prime (401, 100)\n",
      "Shape of X pesduo inverse (100, 401)\n",
      "Shape of A is (401, 401)\n",
      "Rank of A 2\n"
     ]
    }
   ],
   "source": [
    "## DMD of X \n",
    "## X'\n",
    "X_forward = X[:,1::]\n",
    "## Pseudo inverse of X[:,0:-1]\n",
    "Xinv = LA.pinv(X[:,0:-1])\n",
    "print(f\"Shape of X prime {X_forward.shape}\")\n",
    "print(f\"Shape of X pesduo inverse {Xinv.shape}\")\n",
    "## Deriving matrix A \n",
    "A = X_forward @ Xinv\n",
    "print(f\"Shape of A is {A.shape}\")\n",
    "print(f\"Rank of A {LA.matrix_rank(A)}\")\n",
    "## Eigenvalue Decomposition of A \n",
    "LAMB,W = LA.eig(A)"
   ]
  },
  {
   "cell_type": "code",
   "execution_count": 40,
   "metadata": {},
   "outputs": [
    {
     "name": "stderr",
     "output_type": "stream",
     "text": [
      "/Library/Frameworks/Python.framework/Versions/3.9/lib/python3.9/site-packages/matplotlib/cbook/__init__.py:1298: ComplexWarning: Casting complex values to real discards the imaginary part\n",
      "  return np.asarray(x, float)\n",
      "/Library/Frameworks/Python.framework/Versions/3.9/lib/python3.9/site-packages/matplotlib/cbook/__init__.py:1298: ComplexWarning: Casting complex values to real discards the imaginary part\n",
      "  return np.asarray(x, float)\n",
      "/Library/Frameworks/Python.framework/Versions/3.9/lib/python3.9/site-packages/matplotlib/cbook/__init__.py:1298: ComplexWarning: Casting complex values to real discards the imaginary part\n",
      "  return np.asarray(x, float)\n"
     ]
    },
    {
     "data": {
      "image/png": "[encoded data removed]",
      "text/plain": [
       "<Figure size 432x288 with 1 Axes>"
      ]
     },
     "metadata": {
      "needs_background": "light"
     },
     "output_type": "display_data"
    },
    {
     "data": {
      "image/png": "[encoded data removed]",
      "text/plain": [
       "<Figure size 432x288 with 1 Axes>"
      ]
     },
     "metadata": {
      "needs_background": "light"
     },
     "output_type": "display_data"
    }
   ],
   "source": [
    "## Plot Eigenvectors corresponds to non-zero Eigenvalue\n",
    "# fig, axes = plt.subplots(3,1,figsize=(7,9))\n",
    "\n",
    "# Plot eigen values, which shows that the non-zero eigenvalues are the first 2 \n",
    "plt.figure(2)\n",
    "plt.plot(LAMB,\"-o\",c=\"b\",mfc=\"red\",mec=\"k\",markersize=6.5)\n",
    "plt.grid()\n",
    "plt.xlabel(r\"y\")\n",
    "plt.ylabel(r\"Eigen Value ${\\sigma}_{k}}$\")\n",
    "plt.title(\"EigenValues\")\n",
    "plt.savefig(\"HW1Q6b_lambda\")\n",
    "# Plot First 2 Left Singular Vectors \n",
    "plt.figure(3)\n",
    "for i in range(2):\n",
    "    plt.plot(W[:,i],label=\"Eigenvector{}\".format(i+1))\n",
    "plt.grid()\n",
    "plt.xlabel(\"y\")\n",
    "plt.legend()\n",
    "plt.title(\" Eigenvectors corresponding to non-zero eigenvalues\")\n",
    "plt.savefig(\"HW1Q6b_eigvector\")\n",
    "\n",
    "# for i in range(2):\n",
    "#     axes[2].plot(U[:,i],label=r\"$u_{}$\".format(i+1))\n",
    "# axes[2].grid()\n",
    "# axes[2].set_xlabel(\"y\")\n",
    "# axes[2].legend()\n",
    "# axes[2].set_title(\"First Two left singular vectors\")\n",
    "\n",
    "\n",
    "plt.subplots_adjust(left=0.1,\n",
    "                    bottom=0.1, \n",
    "                    right=0.9, \n",
    "                    top=0.9, \n",
    "                    wspace=0.6, \n",
    "                    hspace=0.6)\n",
    "# plt.savefig(\"HW1Q6b\")"
   ]
  },
  {
   "cell_type": "markdown",
   "metadata": {},
   "source": [
    "## (c) Eigenvalue VS Parameter"
   ]
  },
  {
   "cell_type": "code",
   "execution_count": 41,
   "metadata": {},
   "outputs": [
    {
     "name": "stdout",
     "output_type": "stream",
     "text": [
      "The imagary part of first non-zero eigenvalue is 1.3\n",
      "The imagary part of second non-zero eigenvalue is 4.1\n"
     ]
    }
   ],
   "source": [
    "LAMB_D = np.log(LAMB[:2])/dt\n",
    "lambda_1 = LAMB_D[0]\n",
    "lambda_2 = LAMB_D[1]\n",
    "print(f\"The imagary part of first non-zero eigenvalue is {lambda_1.imag}\")\n",
    "print(f\"The imagary part of second non-zero eigenvalue is {np.round(lambda_2.imag,2)}\")\n"
   ]
  },
  {
   "cell_type": "markdown",
   "metadata": {},
   "source": [
    "__The imaginary part of the non-zero eigenvalues are the two frequency which defined the data__"
   ]
  },
  {
   "cell_type": "markdown",
   "metadata": {},
   "source": [
    "## (d) QR pivoting"
   ]
  },
  {
   "cell_type": "code",
   "execution_count": 109,
   "metadata": {},
   "outputs": [
    {
     "name": "stdout",
     "output_type": "stream",
     "text": [
      "The Best Two Spatial location (index 1) to measure this system is 150 and 251\n"
     ]
    }
   ],
   "source": [
    "# Number of modes\n",
    "r = 2\n",
    "# Number of sensor\n",
    "p = 401\n",
    "Psi = U[:,:r]\n",
    "Q,R,pivot= LA.qr(Psi.T,pivoting=True)\n",
    "print(f\"The Best Two Spatial location (index 1) to measure this system is {pivot[0]+1} and {pivot[1]+1}\")\n",
    " "
   ]
  },
  {
   "cell_type": "code",
   "execution_count": 110,
   "metadata": {},
   "outputs": [
    {
     "name": "stdout",
     "output_type": "stream",
     "text": [
      "There are 4 solutions of coefficients\n",
      "The difference between reconstructed matrix and original one is 2.7503801635660208e-15\n"
     ]
    }
   ],
   "source": [
    "# Bulid C matrix as a  permutation matrix\n",
    "C = np.zeros((r,401))\n",
    "# record the  best location of two sensors\n",
    "for j in range(r):\n",
    "    C[j,pivot[j]] = 1\n",
    "# Buliding Theta matrix\n",
    "Theta = C @ Psi\n",
    "# Measure the pivot locations in dataset X\n",
    "y = X[pivot[0:r],:]\n",
    "# estimate coefficients \n",
    "res = LA.lstsq(Theta,y)\n",
    "print(f\"There are {len(res)} solutions of coefficients\")\n",
    "# choose the first solution for examination\n",
    "a = res[0]\n",
    "# reconstruct the X matrix\n",
    "X_reon = U[:,0:r] @ a\n",
    "# Measure the difference between reconstructed matrix and original one\n",
    "difference = np.abs(np.max(X_reon -  X))\n",
    "print(f\"The difference between reconstructed matrix and original one is {difference}\")\n",
    "# which is negliable enough to treat them as identical"
   ]
  },
  {
   "cell_type": "code",
   "execution_count": null,
   "metadata": {},
   "outputs": [],
   "source": []
  }
 ],
 "metadata": {
  "kernelspec": {
   "display_name": "Python 3.9.11 64-bit",
   "language": "python",
   "name": "python3"
  },
  "language_info": {
   "codemirror_mode": {
    "name": "ipython",
    "version": 3
   },
   "file_extension": ".py",
   "mimetype": "text/x-python",
   "name": "python",
   "nbconvert_exporter": "python",
   "pygments_lexer": "ipython3",
   "version": "3.9.11"
  },
  "orig_nbformat": 4,
  "vscode": {
   "interpreter": {
    "hash": "aee8b7b246df8f9039afb4144a1f6fd8d2ca17a180786b69acc140d282b71a49"
   }
  }
 },
 "nbformat": 4,
 "nbformat_minor": 2
}
